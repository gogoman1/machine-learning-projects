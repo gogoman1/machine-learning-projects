{
 "cells": [
  {
   "cell_type": "code",
   "execution_count": 23,
   "id": "19dd5322-63d0-4324-bd52-1b4093566424",
   "metadata": {},
   "outputs": [],
   "source": [
    "import pandas as pd\n",
    "import numpy as np\n",
    "import re\n",
    "from nltk.corpus import stopwords\n",
    "from nltk.stem.porter import PorterStemmer\n",
    "from sklearn.model_selection import train_test_split\n",
    "from sklearn.linear_model import LogisticRegression\n",
    "from sklearn.metrics import accuracy_score\n",
    "import joblib\n",
    "import pickle\n",
    "from sklearn.feature_extraction.text import TfidfVectorizer"
   ]
  },
  {
   "cell_type": "code",
   "execution_count": 24,
   "id": "3fe80c8e-e573-4945-ac47-1b79de042b96",
   "metadata": {},
   "outputs": [],
   "source": [
    "news=pd.read_csv('stemmedc.csv')"
   ]
  },
  {
   "cell_type": "code",
   "execution_count": 29,
   "id": "4f077889-3e0e-4978-b630-8fee087a781f",
   "metadata": {},
   "outputs": [],
   "source": [
    "news=news.dropna()"
   ]
  },
  {
   "cell_type": "code",
   "execution_count": 30,
   "id": "8f16d898-f58e-4968-bb55-b3654e4f15c5",
   "metadata": {},
   "outputs": [],
   "source": [
    "x=news['text']\n",
    "y=news['result']"
   ]
  },
  {
   "cell_type": "code",
   "execution_count": 31,
   "id": "badbbfed-39b5-4bb4-8645-25482d22c386",
   "metadata": {},
   "outputs": [],
   "source": [
    "xtrain,xtest,ytrain,ytest=train_test_split(x,y,stratify=y,test_size=0.2,random_state=2)"
   ]
  },
  {
   "cell_type": "code",
   "execution_count": 32,
   "id": "02d113ad-50a1-421f-aea1-d054f5f3a68b",
   "metadata": {},
   "outputs": [],
   "source": [
    "vectorizer=TfidfVectorizer()\n",
    "vectorizer.fit(x)\n",
    "x=vectorizer.transform(x)\n",
    "\n",
    "    "
   ]
  },
  {
   "cell_type": "code",
   "execution_count": 36,
   "id": "1de127b5-cc15-4e2f-9f70-651419654d61",
   "metadata": {},
   "outputs": [],
   "source": [
    "pickle.dump(vectorizer,open(\"xtrain.pickle\", \"wb\"))"
   ]
  },
  {
   "cell_type": "code",
   "execution_count": 37,
   "id": "ae7fcc2e-8f13-4c30-9b1c-ee208cc59257",
   "metadata": {},
   "outputs": [
    {
     "data": {
      "text/plain": [
       "(78538, 159890)"
      ]
     },
     "execution_count": 37,
     "metadata": {},
     "output_type": "execute_result"
    }
   ],
   "source": [
    "x.shape"
   ]
  },
  {
   "cell_type": "code",
   "execution_count": null,
   "id": "1af37417-f47b-43c0-9239-1676bb736451",
   "metadata": {},
   "outputs": [],
   "source": []
  }
 ],
 "metadata": {
  "kernelspec": {
   "display_name": "Python 3 (ipykernel)",
   "language": "python",
   "name": "python3"
  },
  "language_info": {
   "codemirror_mode": {
    "name": "ipython",
    "version": 3
   },
   "file_extension": ".py",
   "mimetype": "text/x-python",
   "name": "python",
   "nbconvert_exporter": "python",
   "pygments_lexer": "ipython3",
   "version": "3.11.3"
  }
 },
 "nbformat": 4,
 "nbformat_minor": 5
}
