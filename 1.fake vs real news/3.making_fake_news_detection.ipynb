{
 "cells": [
  {
   "cell_type": "markdown",
   "id": "ec97fd0f-34cb-4df2-9e4c-850c0d06b52c",
   "metadata": {},
   "source": [
    "importing the dependencies"
   ]
  },
  {
   "cell_type": "code",
   "execution_count": null,
   "id": "09f74c53-528d-45d4-95f0-858b0ee4a0cb",
   "metadata": {},
   "outputs": [],
   "source": [
    "import pandas as pd\n",
    "import numpy as np\n",
    "import re\n",
    "from nltk.corpus import stopwords\n",
    "from nltk.stem.porter import PorterStemmer\n",
    "from sklearn.model_selection import train_test_split\n",
    "from sklearn.linear_model import LogisticRegression\n",
    "from sklearn.metrics import accuracy_score"
   ]
  },
  {
   "cell_type": "markdown",
   "id": "65673c0b-8c7e-4976-8b4c-330d4db3a820",
   "metadata": {},
   "source": [
    "importing the real and fake news data set"
   ]
  },
  {
   "cell_type": "code",
   "execution_count": null,
   "id": "e84173f6-26bd-4c4e-a656-e4d061a6246d",
   "metadata": {},
   "outputs": [],
   "source": [
    "real=pd.read_csv('DataSet_Misinfo_TRUE.csv')\n",
    "fake=pd.read_csv('DataSet_Misinfo_FAKE.csv')"
   ]
  },
  {
   "cell_type": "markdown",
   "id": "931de445-97cd-487f-8290-27ff06760b02",
   "metadata": {},
   "source": [
    "setting the vaue 1 for real and 0 for fake\n"
   ]
  },
  {
   "cell_type": "code",
   "execution_count": null,
   "id": "0441de09-feb3-4182-99c5-8614e3b3523f",
   "metadata": {},
   "outputs": [],
   "source": [
    "real['result']=1\n",
    "fake['result']=0\n"
   ]
  },
  {
   "cell_type": "markdown",
   "id": "5458f3f5-b42c-4df4-9320-b87d23f26ade",
   "metadata": {},
   "source": [
    "concatination of both fake and real news"
   ]
  },
  {
   "cell_type": "code",
   "execution_count": null,
   "id": "9153fdcd-3496-4ed6-b0ab-45ef22150b04",
   "metadata": {},
   "outputs": [],
   "source": [
    "frames=[real,fake]\n",
    "news=pd.concat(frames)\n",
    "               "
   ]
  },
  {
   "cell_type": "markdown",
   "id": "f1d58113-c604-451f-a2fb-b282e7e82696",
   "metadata": {},
   "source": [
    "checking the number of real and fake news"
   ]
  },
  {
   "cell_type": "code",
   "execution_count": null,
   "id": "da4dd442-2bb8-4ae1-a33a-1429dc834e77",
   "metadata": {},
   "outputs": [],
   "source": [
    "news['result'].value_counts()"
   ]
  },
  {
   "cell_type": "code",
   "execution_count": null,
   "id": "f87828c4-ae21-4bde-a599-13764029de23",
   "metadata": {},
   "outputs": [],
   "source": [
    "news.describe()"
   ]
  },
  {
   "cell_type": "code",
   "execution_count": null,
   "id": "6337b30d-a6b4-458f-9db7-6398b3f94462",
   "metadata": {},
   "outputs": [],
   "source": [
    "news.shape"
   ]
  },
  {
   "cell_type": "code",
   "execution_count": null,
   "id": "9351f15b-767d-4851-9a05-ab1b9e99fa66",
   "metadata": {},
   "outputs": [],
   "source": [
    "news"
   ]
  },
  {
   "cell_type": "code",
   "execution_count": null,
   "id": "e945bdcf-ea7b-42aa-a1de-f2913e176a6e",
   "metadata": {},
   "outputs": [],
   "source": [
    "news.isnull().sum()"
   ]
  },
  {
   "cell_type": "code",
   "execution_count": null,
   "id": "1de206bc-7b0e-4a98-bc6c-547434ff23b2",
   "metadata": {},
   "outputs": [],
   "source": [
    "news=news.dropna()"
   ]
  },
  {
   "cell_type": "code",
   "execution_count": null,
   "id": "68d097d4-5722-46ba-a138-abe93f718409",
   "metadata": {},
   "outputs": [],
   "source": [
    "news.isnull().sum()"
   ]
  },
  {
   "cell_type": "code",
   "execution_count": null,
   "id": "b4e46cf7-9c03-4b13-8603-7dbb0f5ddf13",
   "metadata": {},
   "outputs": [],
   "source": [
    "import nltk\n",
    "nltk.download('stopwords')"
   ]
  },
  {
   "cell_type": "markdown",
   "id": "7fbdee23-67f3-4a7c-a0dc-30d320503ef3",
   "metadata": {},
   "source": [
    "here are the stop words which dont add meaning to the sentence"
   ]
  },
  {
   "cell_type": "code",
   "execution_count": null,
   "id": "7ae2b620-2ebe-478a-9e66-84df50ca3ea6",
   "metadata": {},
   "outputs": [],
   "source": [
    "print(stopwords.words('english'))"
   ]
  },
  {
   "cell_type": "markdown",
   "id": "1655068b-e365-4730-9049-7550d595db76",
   "metadata": {},
   "source": [
    "**stemming the text column in news data set**\n",
    "1. to remove stopwords\n",
    "2. reduce other word to their root words e.g {actress,acting, actor,action,acted} ---> act"
   ]
  },
  {
   "cell_type": "code",
   "execution_count": null,
   "id": "3cbbc64e-6f07-460d-8756-ee52a1de6cd1",
   "metadata": {},
   "outputs": [],
   "source": [
    "port_stem=PorterStemmer()"
   ]
  },
  {
   "cell_type": "code",
   "execution_count": null,
   "id": "461bb83d-7ff7-4579-8c3e-6370f416bb53",
   "metadata": {},
   "outputs": [],
   "source": [
    "def stemming(content):\n",
    "    stemmed_content =re.sub('[^a-zA-Z]',' ',content)\n",
    "    stemmed_content =stemmed_content.lower()\n",
    "    stemmed_content =stemmed_content.split()\n",
    "    stemmed_content=[port_stem.stem(word) for word in stemmed_content if not word in stopwords.words('english')]\n",
    "    stemmed_content=' '.join(stemmed_content)\n",
    "    return stemmed_content\n",
    "    \n",
    "    "
   ]
  },
  {
   "cell_type": "code",
   "execution_count": null,
   "id": "b7753196-12eb-4748-a96a-541c827f245e",
   "metadata": {},
   "outputs": [],
   "source": [
    "news['text']=news['text'].apply(stemming)"
   ]
  },
  {
   "cell_type": "markdown",
   "id": "cacea7d9-ffbb-4ec8-b16d-83304614dcee",
   "metadata": {},
   "source": [
    "**saving the stemmed dataframe as a csv file**"
   ]
  },
  {
   "cell_type": "code",
   "execution_count": null,
   "id": "49837b0e-fb85-43c6-8744-fe81fb4528c7",
   "metadata": {},
   "outputs": [],
   "source": [
    "news.to_csv('stemmed.csv')"
   ]
  },
  {
   "cell_type": "code",
   "execution_count": null,
   "id": "a2eb846e-b2b3-4c38-9839-6081280c8a7d",
   "metadata": {},
   "outputs": [],
   "source": [
    "news"
   ]
  },
  {
   "cell_type": "markdown",
   "id": "d8ac582e-da0d-443c-8049-45be495ab0ce",
   "metadata": {},
   "source": [
    "**splitting the news dataset into input \"x\" and output \"y\"**"
   ]
  },
  {
   "cell_type": "code",
   "execution_count": null,
   "id": "d0f1227d-78a2-4684-825b-50ccfa4ac93b",
   "metadata": {},
   "outputs": [],
   "source": [
    "x=news['text']\n",
    "y=news['result']"
   ]
  },
  {
   "cell_type": "markdown",
   "id": "353e1e8b-cccf-46e8-b2da-265fb8423847",
   "metadata": {},
   "source": [
    "**changing the texual data of 'text' into numerical to be fed into a logistic regression model**"
   ]
  },
  {
   "cell_type": "code",
   "execution_count": null,
   "id": "4bd2a539-97d4-4b0d-97bd-7c40d45285b5",
   "metadata": {},
   "outputs": [],
   "source": [
    "from sklearn.feature_extraction.text import TfidfVectorizer"
   ]
  },
  {
   "cell_type": "code",
   "execution_count": null,
   "id": "cd01316a-e8a8-42a6-9420-c262b83672e4",
   "metadata": {},
   "outputs": [],
   "source": [
    "vectorizer=TfidfVectorizer()\n",
    "vectorizer.fit(x)\n",
    "x=vectorizer.transform(x)\n"
   ]
  },
  {
   "cell_type": "markdown",
   "id": "f8f74a75-95f0-4ce8-825f-5cda8c10c37c",
   "metadata": {},
   "source": [
    "**splitting the dataset into train and test parts**"
   ]
  },
  {
   "cell_type": "code",
   "execution_count": null,
   "id": "04dd4cd2-6c99-4754-98cc-e9adf73928b1",
   "metadata": {},
   "outputs": [],
   "source": [
    "xtrain,xtest,ytrain,ytest=train_test_split(x,y,stratify=y,test_size=0.2,random_state=2)"
   ]
  },
  {
   "cell_type": "raw",
   "id": "0ec8389b-54f7-4079-8c1c-e074d13db162",
   "metadata": {},
   "source": [
    "**applying the logistic regression model on train dataset**"
   ]
  },
  {
   "cell_type": "code",
   "execution_count": null,
   "id": "c979766c-5d16-4b52-8ed7-4a1ce99e599b",
   "metadata": {},
   "outputs": [],
   "source": [
    "model=LogisticRegression()\n",
    "model.fit(xtrain,ytrain)"
   ]
  },
  {
   "cell_type": "markdown",
   "id": "8d14e573-9ebf-4e10-b004-f1ca0aefb0ae",
   "metadata": {},
   "source": [
    "**calculating accuracy of the model by checking predictions for the test data**"
   ]
  },
  {
   "cell_type": "code",
   "execution_count": null,
   "id": "4b7fc462-8a2c-496e-b342-37c4584fa9b5",
   "metadata": {},
   "outputs": [],
   "source": [
    "predictions=model.predict(xtest)\n",
    "accuracy=accuracy_score(predictions,ytest)\n",
    "accuracy"
   ]
  }
 ],
 "metadata": {
  "kernelspec": {
   "display_name": "Python 3 (ipykernel)",
   "language": "python",
   "name": "python3"
  },
  "language_info": {
   "codemirror_mode": {
    "name": "ipython",
    "version": 3
   },
   "file_extension": ".py",
   "mimetype": "text/x-python",
   "name": "python",
   "nbconvert_exporter": "python",
   "pygments_lexer": "ipython3",
   "version": "3.11.3"
  }
 },
 "nbformat": 4,
 "nbformat_minor": 5
}
