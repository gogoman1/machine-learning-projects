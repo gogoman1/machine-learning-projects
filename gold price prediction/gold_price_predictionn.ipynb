{
 "cells": [
  {
   "cell_type": "code",
   "execution_count": null,
   "id": "6633a1e7-ebce-4d92-b233-4cda42bc3eb3",
   "metadata": {},
   "outputs": [],
   "source": [
    "import pandas as pd\n",
    "import numpy as np\n",
    "from sklearn.model_selection import train_test_split\n",
    "from sklearn.ensemble import RandomForestRegressor\n",
    "from sklearn.preprocessing import StandardScaler\n",
    "import matplotlib as mlt\n",
    "import seaborn as sns\n"
   ]
  },
  {
   "cell_type": "code",
   "execution_count": null,
   "id": "18c16271-c237-4f07-9ea8-bc1d23e8a21e",
   "metadata": {},
   "outputs": [],
   "source": [
    "work=pd.read_csv('gld_price_data.csv')"
   ]
  },
  {
   "cell_type": "code",
   "execution_count": null,
   "id": "079989be-6b62-4cd9-a7b0-1f431ce24de3",
   "metadata": {},
   "outputs": [],
   "source": [
    "work.isnull().sum()"
   ]
  },
  {
   "cell_type": "code",
   "execution_count": null,
   "id": "bcb9a323-9fd4-466b-8af8-f204babd0727",
   "metadata": {},
   "outputs": [],
   "source": [
    "work"
   ]
  },
  {
   "cell_type": "code",
   "execution_count": null,
   "id": "cd067bd2-f8db-43ce-8720-746f68a1eab3",
   "metadata": {},
   "outputs": [],
   "source": [
    "work.info()"
   ]
  },
  {
   "cell_type": "code",
   "execution_count": null,
   "id": "8783e57d-9b36-4610-93bc-89eda6494e34",
   "metadata": {},
   "outputs": [],
   "source": [
    "correlation=work.corr(numeric_only=True)"
   ]
  },
  {
   "cell_type": "code",
   "execution_count": null,
   "id": "656c4fba-bdf9-464b-84ff-cea70dd944eb",
   "metadata": {},
   "outputs": [],
   "source": [
    "work.describe()"
   ]
  },
  {
   "cell_type": "code",
   "execution_count": null,
   "id": "a7f1b7f5-c9a0-4193-ab1c-7606331d5164",
   "metadata": {},
   "outputs": [],
   "source": [
    "print(correlation['GLD'])"
   ]
  },
  {
   "cell_type": "code",
   "execution_count": null,
   "id": "aa4532ec-e06a-4076-8cdf-c06807b1b160",
   "metadata": {},
   "outputs": [],
   "source": [
    "sns.displot(work['GLD'], kind='hist', bins=40, stat='density')"
   ]
  },
  {
   "cell_type": "code",
   "execution_count": null,
   "id": "d7e98dc6-caa2-4043-a209-5b54fc95297f",
   "metadata": {},
   "outputs": [],
   "source": [
    "x=work.drop(columns=['Date','GLD'])"
   ]
  },
  {
   "cell_type": "code",
   "execution_count": null,
   "id": "1fe93976-0a37-4f3c-b72b-e06c4ccc14c1",
   "metadata": {},
   "outputs": [],
   "source": [
    "y=work['GLD']"
   ]
  },
  {
   "cell_type": "code",
   "execution_count": null,
   "id": "8506b4ac-dc88-4beb-a8b9-ea97d852b147",
   "metadata": {},
   "outputs": [],
   "source": [
    "# y=pd.DataFrame(y)"
   ]
  },
  {
   "cell_type": "code",
   "execution_count": null,
   "id": "e30ef817-74f9-4325-9523-546bac924cbc",
   "metadata": {},
   "outputs": [],
   "source": [
    "scaler=StandardScaler()"
   ]
  },
  {
   "cell_type": "code",
   "execution_count": null,
   "id": "af745110-507d-4cf4-a1b3-3f49fe8752ac",
   "metadata": {},
   "outputs": [],
   "source": [
    "# x=scaler.fit_transform(x)"
   ]
  },
  {
   "cell_type": "code",
   "execution_count": null,
   "id": "0f6f4108-da87-44d6-929f-ae26c7705743",
   "metadata": {},
   "outputs": [],
   "source": [
    "# y=scaler.fit_transform(y)"
   ]
  },
  {
   "cell_type": "code",
   "execution_count": null,
   "id": "80e829ba-2f64-454c-b451-363f1fd63835",
   "metadata": {},
   "outputs": [],
   "source": [
    "xtrain,xtest,ytrain,ytest=train_test_split(x,y,test_size=0.99,random_state=42)"
   ]
  },
  {
   "cell_type": "code",
   "execution_count": null,
   "id": "67f8e637-3885-4304-94ea-fbb508f2ff26",
   "metadata": {},
   "outputs": [],
   "source": [
    "y"
   ]
  },
  {
   "cell_type": "code",
   "execution_count": null,
   "id": "76d7806c-c3d2-48fa-83c4-26a47b47dcb0",
   "metadata": {},
   "outputs": [],
   "source": [
    "model=RandomForestRegressor()"
   ]
  },
  {
   "cell_type": "code",
   "execution_count": null,
   "id": "6d513292-a3a7-473a-bc26-080d67aa3f2c",
   "metadata": {},
   "outputs": [],
   "source": [
    "model.fit(xtrain,ytrain)"
   ]
  },
  {
   "cell_type": "code",
   "execution_count": null,
   "id": "a15fc3f1-52a2-4a1f-8301-8668d26d5f22",
   "metadata": {},
   "outputs": [],
   "source": [
    "from sklearn import metrics"
   ]
  },
  {
   "cell_type": "code",
   "execution_count": null,
   "id": "af24ff7b-1031-4b9d-9c41-4288fda0ed0a",
   "metadata": {},
   "outputs": [],
   "source": [
    "predictions=model.predict(xtest)"
   ]
  },
  {
   "cell_type": "code",
   "execution_count": null,
   "id": "ec089a0a-5519-4c5c-bc63-b7a012c7df11",
   "metadata": {},
   "outputs": [],
   "source": [
    "r2=metrics.r2_score(ytest,predictions)"
   ]
  },
  {
   "cell_type": "code",
   "execution_count": null,
   "id": "e907f7de-838b-4b00-9dcb-e7b9a50bc9ae",
   "metadata": {},
   "outputs": [],
   "source": [
    "r2"
   ]
  },
  {
   "cell_type": "code",
   "execution_count": null,
   "id": "108021f9-5f3f-4237-bc58-9de334352158",
   "metadata": {},
   "outputs": [],
   "source": []
  }
 ],
 "metadata": {
  "kernelspec": {
   "display_name": "Python 3 (ipykernel)",
   "language": "python",
   "name": "python3"
  },
  "language_info": {
   "codemirror_mode": {
    "name": "ipython",
    "version": 3
   },
   "file_extension": ".py",
   "mimetype": "text/x-python",
   "name": "python",
   "nbconvert_exporter": "python",
   "pygments_lexer": "ipython3",
   "version": "3.11.3"
  }
 },
 "nbformat": 4,
 "nbformat_minor": 5
}
