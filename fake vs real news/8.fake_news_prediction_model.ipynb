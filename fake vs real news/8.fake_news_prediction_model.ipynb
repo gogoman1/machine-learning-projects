{
 "cells": [
  {
   "cell_type": "markdown",
   "id": "a3e67b98-b2a7-4a91-98b3-884018ce2fca",
   "metadata": {},
   "source": [
    "**imoprting the dependencies**"
   ]
  },
  {
   "cell_type": "code",
   "execution_count": 1,
   "id": "ccae56fc-0d01-4355-9ddc-7c7a8739b9a6",
   "metadata": {},
   "outputs": [],
   "source": [
    "import pickle\n",
    "from sklearn.feature_extraction.text import TfidfVectorizer\n",
    "import joblib\n",
    "import re\n",
    "from nltk.corpus import stopwords\n",
    "from nltk.stem.porter import PorterStemmer"
   ]
  },
  {
   "cell_type": "markdown",
   "id": "208a8a1d-119b-40c4-aaaf-662f1688a314",
   "metadata": {},
   "source": [
    "**importing the fake news detection model using joblib**"
   ]
  },
  {
   "cell_type": "code",
   "execution_count": 2,
   "id": "0de3025e-a03e-431a-a935-5d03604797c4",
   "metadata": {},
   "outputs": [],
   "source": [
    "model =joblib.load('fakenews_model.joblib')"
   ]
  },
  {
   "cell_type": "markdown",
   "id": "66d004e5-5d1e-4204-970a-30e0737c569b",
   "metadata": {},
   "source": [
    "**enter the news comtent here to be checked**"
   ]
  },
  {
   "cell_type": "code",
   "execution_count": 85,
   "id": "82ffc860-6665-4264-8cdf-eb81103d3d98",
   "metadata": {},
   "outputs": [],
   "source": [
    "news=\"\"\"//PASTE NEWS HERE//\"\"\""
   ]
  },
  {
   "cell_type": "markdown",
   "id": "b22d62bd-c43e-44fc-8948-3b8ee3e61981",
   "metadata": {},
   "source": [
    "**removing the stopwords and stemming the news**"
   ]
  },
  {
   "cell_type": "code",
   "execution_count": 86,
   "id": "b0cc2e95-b389-4d9d-81aa-155aea769f3f",
   "metadata": {},
   "outputs": [],
   "source": [
    "port_stem=PorterStemmer()\n",
    "def stemming(content):\n",
    "    stemmed_content =re.sub('[^a-zA-Z]',' ',content)\n",
    "    stemmed_content =stemmed_content.lower()\n",
    "    stemmed_content =stemmed_content.split()\n",
    "    stemmed_content=[port_stem.stem(word) for word in stemmed_content if not word in stopwords.words('english')]\n",
    "    stemmed_content=' '.join(stemmed_content)\n",
    "    return stemmed_content"
   ]
  },
  {
   "cell_type": "code",
   "execution_count": 87,
   "id": "5974581b-f97c-47bd-a4eb-c8eb30e3c82e",
   "metadata": {},
   "outputs": [],
   "source": [
    "stemmed_news=stemming(news)"
   ]
  },
  {
   "cell_type": "markdown",
   "id": "4a2d6bf7-ed54-4528-ad67-48b8f971d36b",
   "metadata": {},
   "source": [
    "**importing the vectorizer using pickle**"
   ]
  },
  {
   "cell_type": "code",
   "execution_count": 88,
   "id": "08922c18-9395-4822-9c1e-5a4266eb4ccf",
   "metadata": {},
   "outputs": [],
   "source": [
    "vectorizer = pickle.load(open(\"xtrain.pickle\", \"rb\"))"
   ]
  },
  {
   "cell_type": "code",
   "execution_count": 89,
   "id": "5f074d6e-fc18-424c-8b65-2d5d6d4a6ddc",
   "metadata": {},
   "outputs": [],
   "source": [
    "vectorizer_news=vectorizer.transform([stemmed_news])"
   ]
  },
  {
   "cell_type": "code",
   "execution_count": 90,
   "id": "c7e515c1-d64b-4b93-8f71-47a84c44570f",
   "metadata": {},
   "outputs": [
    {
     "data": {
      "text/plain": [
       "(1, 159890)"
      ]
     },
     "execution_count": 90,
     "metadata": {},
     "output_type": "execute_result"
    }
   ],
   "source": [
    "vectorizer_news.shape"
   ]
  },
  {
   "cell_type": "code",
   "execution_count": 91,
   "id": "a700cb73-9808-4e3c-a7ba-14b6908bf019",
   "metadata": {},
   "outputs": [],
   "source": [
    "prediction=model.predict(vectorizer_news)"
   ]
  },
  {
   "cell_type": "code",
   "execution_count": 92,
   "id": "2fa77088-d452-44e0-9ca0-79b7c75a639f",
   "metadata": {},
   "outputs": [
    {
     "name": "stdout",
     "output_type": "stream",
     "text": [
      "news is fake\n"
     ]
    }
   ],
   "source": [
    "if(prediction):\n",
    "    print(\"news is real\")\n",
    "else:\n",
    "    print(\"news is fake\")\n"
   ]
  },
  {
   "cell_type": "code",
   "execution_count": null,
   "id": "99ec2cb1-5f1d-457b-bbb3-fddb93442e2b",
   "metadata": {},
   "outputs": [],
   "source": []
  },
  {
   "cell_type": "code",
   "execution_count": null,
   "id": "4353b37f-0acd-4205-bd1f-b4f8471f39e9",
   "metadata": {},
   "outputs": [],
   "source": []
  }
 ],
 "metadata": {
  "kernelspec": {
   "display_name": "Python 3 (ipykernel)",
   "language": "python",
   "name": "python3"
  },
  "language_info": {
   "codemirror_mode": {
    "name": "ipython",
    "version": 3
   },
   "file_extension": ".py",
   "mimetype": "text/x-python",
   "name": "python",
   "nbconvert_exporter": "python",
   "pygments_lexer": "ipython3",
   "version": "3.11.3"
  }
 },
 "nbformat": 4,
 "nbformat_minor": 5
}
